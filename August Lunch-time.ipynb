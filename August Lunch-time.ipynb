{
 "cells": [
  {
   "cell_type": "code",
   "execution_count": 3,
   "metadata": {},
   "outputs": [
    {
     "name": "stdout",
     "output_type": "stream",
     "text": [
      "5\n",
      "5 7 10 10 20 50\n",
      "FAIR\n",
      "5 5 5 20 10 20\n",
      "NOT FAIR\n",
      "10 1 17 5 10 5\n",
      "NOT FAIR\n",
      "3 6 3 8 10 9\n",
      "NOT FAIR\n",
      "8 5 5 50 10 10\n",
      "FAIR\n"
     ]
    }
   ],
   "source": [
    "#Eidi Gift\n",
    "def valid(a1, a2, c1, c2):\n",
    "    if a1 > a2 and c1 > c2:\n",
    "        return True\n",
    "    elif a1 < a2 and c1 < c2:\n",
    "        return True\n",
    "    elif a1 == a2 and c1 == c2:\n",
    "        return True\n",
    "    else:\n",
    "        return False\n",
    "\n",
    "for t in range(int(input())):\n",
    "    a1, a2, a3, c1, c2, c3 = map(int, input().split())\n",
    "    if(valid(a1, a2, c1, c2) and valid(a2, a3, c2, c3) and valid(a1, a3, c1, c3)):\n",
    "        print(\"FAIR\")\n",
    "    else:\n",
    "        print(\"NOT FAIR\")"
   ]
  },
  {
   "cell_type": "code",
   "execution_count": null,
   "metadata": {},
   "outputs": [],
   "source": [
    "#chef and Trip\n",
    "for t in range(int(input())):\n",
    "    n, k = map(int, input().split())\n",
    "    A = list(map(int, input().split()))\n",
    "    \n",
    "    city = list(range(1, k+1))\n",
    "    \n",
    "    for i in range(1, n):\n",
    "        if(A[i] == -1):\n",
    "            if i+1 in range(n) and A[i+1] != -1:\n",
    "            \n",
    "            elif i-1 in range(n) and \n",
    "                \n",
    "            "
   ]
  },
  {
   "cell_type": "code",
   "execution_count": 6,
   "metadata": {},
   "outputs": [
    {
     "data": {
      "text/plain": [
       "False"
      ]
     },
     "execution_count": 6,
     "metadata": {},
     "output_type": "execute_result"
    }
   ],
   "source": [
    "[2, 2] in l"
   ]
  },
  {
   "cell_type": "code",
   "execution_count": 18,
   "metadata": {},
   "outputs": [
    {
     "name": "stdout",
     "output_type": "stream",
     "text": [
      "1\n",
      "2 50\n",
      "100 75 34 37 30 25 22 19 12 15 10 13 12 12 10 10 9 9 9 7 7 7 7 7 6 6 6 6 6 6 6 6 4 4 4 4 4 4 4 4 4 4 4 4 4 4 4 4 4 3 3 3 3 3 3 3 3 3 3 3 3 3 3 3 3 3 3 3 3 3 3 3 3 3 3 3 3 3 3 3 3 3 3 3 3 3 3 3 3 3 3 3 3 3 3 3 3 3 2 1 \n"
     ]
    }
   ],
   "source": [
    "#DestroyCells\n",
    "for t in range(int(input())):\n",
    "    N, M = map(int, input().split())\n",
    "    for k in range(0, N*M):\n",
    "        hero1 = list(range(1, N*M+1, k+1))\n",
    "        hero2 = []\n",
    "        for i in range(1, M+1):\n",
    "            for j in range(0, N):\n",
    "                hero2.append(M*j + i)\n",
    "        for i in range(0, N*M, k+1):\n",
    "            if hero2[i] not in hero1:\n",
    "                hero1.append(hero2[i])\n",
    "                \n",
    "        print(len(hero1), end = \" \")\n",
    "    print()"
   ]
  },
  {
   "cell_type": "code",
   "execution_count": 21,
   "metadata": {},
   "outputs": [
    {
     "name": "stdout",
     "output_type": "stream",
     "text": [
      "1\n",
      "3 2 5 4 6\n",
      "1 6\n",
      "2 8\n",
      "8 10\n",
      "-1 8 \n"
     ]
    }
   ],
   "source": [
    "#ChefDrinksCokeYetAgain\n",
    "for t in range(int(input())):\n",
    "    n, q, k, l, r = map(int, input().split())\n",
    "    cans = []\n",
    "    for i in range(n):\n",
    "        cans.append(list(map(int, input().split())))\n",
    "    for m in range(1, q+1):\n",
    "        ans = 10000000\n",
    "        for i in range(n):\n",
    "            C = cans[i][0]\n",
    "            if C < k:\n",
    "                C = C+m if C+m < k else k\n",
    "            elif C > k:\n",
    "                C = C-m if C-m > k else k\n",
    "        \n",
    "            if C in range(l, r+1):\n",
    "                if cans[i][1] <= ans:\n",
    "                    ans = cans[i][1]\n",
    "        print(ans if ans != 10000000 else -1, end = \" \")\n",
    "        \n",
    "    print()"
   ]
  }
 ],
 "metadata": {
  "kernelspec": {
   "display_name": "Python 3",
   "language": "python",
   "name": "python3"
  },
  "language_info": {
   "codemirror_mode": {
    "name": "ipython",
    "version": 3
   },
   "file_extension": ".py",
   "mimetype": "text/x-python",
   "name": "python",
   "nbconvert_exporter": "python",
   "pygments_lexer": "ipython3",
   "version": "3.7.1"
  }
 },
 "nbformat": 4,
 "nbformat_minor": 2
}
