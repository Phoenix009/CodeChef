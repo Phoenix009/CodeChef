{
 "cells": [
  {
   "cell_type": "code",
   "execution_count": null,
   "metadata": {},
   "outputs": [],
   "source": [
    "for t in range(int(input())):\n",
    "    n = int(input())\n",
    "    s = input()\n",
    "    r = input()\n",
    "    count = [0, 0]\n",
    "    \n",
    "    for i in s:\n",
    "        count[int(i)] += 1\n",
    "    \n",
    "    for i in r:\n",
    "        count[int(i)] -= 1\n",
    "    \n",
    "    if count[0] == 0 and count[1] == 0:\n",
    "        print(\"YES\")\n",
    "    else:\n",
    "        print(\"NO\")"
   ]
  },
  {
   "cell_type": "code",
   "execution_count": 1,
   "metadata": {},
   "outputs": [
    {
     "name": "stdout",
     "output_type": "stream",
     "text": [
      "3\n",
      "3\n",
      "3\n",
      "8\n",
      "None\n",
      "9\n",
      "6\n"
     ]
    }
   ],
   "source": [
    "def findAns(X, Y, end, steps):\n",
    "    if X == end:\n",
    "        return steps\n",
    "    elif X < end:\n",
    "        while X*X <= Y:\n",
    "            X+=1\n",
    "        Y+=(X*X)\n",
    "        steps += 1\n",
    "        return findAns(X, Y, end, steps)\n",
    "        \n",
    "\n",
    "for t in range(int(input())):\n",
    "    print(findAns(0, 0, int(input()), 0))"
   ]
  },
  {
   "cell_type": "code",
   "execution_count": 4,
   "metadata": {},
   "outputs": [
    {
     "name": "stdout",
     "output_type": "stream",
     "text": [
      "1\n",
      "10011001100101010\n",
      "14\n"
     ]
    }
   ],
   "source": [
    "def count(i, j, l):\n",
    "    count = [0, 0]\n",
    "    while(i<=j):\n",
    "        count[l[i]] += 1\n",
    "        i+=1\n",
    "    if count[0] == count[1]*count[1]:\n",
    "        return True\n",
    "    else:\n",
    "        return False\n",
    "\n",
    "\n",
    "for t in range(int(input())):\n",
    "    l = list(map(int, input()))\n",
    "    ans = 0\n",
    "    for i in range(len(l)):\n",
    "        j = i+1\n",
    "        while(j<len(l)):\n",
    "            if count(i, j, l):\n",
    "                ans += 1\n",
    "            j += 1\n",
    "    print(ans)"
   ]
  },
  {
   "cell_type": "code",
   "execution_count": 10,
   "metadata": {},
   "outputs": [],
   "source": []
  },
  {
   "cell_type": "code",
   "execution_count": null,
   "metadata": {},
   "outputs": [],
   "source": []
  }
 ],
 "metadata": {
  "kernelspec": {
   "display_name": "Python 3",
   "language": "python",
   "name": "python3"
  },
  "language_info": {
   "codemirror_mode": {
    "name": "ipython",
    "version": 3
   },
   "file_extension": ".py",
   "mimetype": "text/x-python",
   "name": "python",
   "nbconvert_exporter": "python",
   "pygments_lexer": "ipython3",
   "version": "3.7.1"
  }
 },
 "nbformat": 4,
 "nbformat_minor": 2
}
