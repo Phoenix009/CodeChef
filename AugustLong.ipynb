{
 "cells": [
  {
   "cell_type": "code",
   "execution_count": null,
   "metadata": {},
   "outputs": [],
   "source": [
    "#Football\n",
    "\n",
    "for t in range(int(input())):\n",
    "    n = int(input())\n",
    "    A = list(map(int, input().split()))\n",
    "    B = list(map(int, input().split()))\n",
    "    maxscore = 0\n",
    "    for i in range(n):\n",
    "        score = A[i]*20 - B[i]*10;\n",
    "        if score < 0:\n",
    "            score = 0;\n",
    "        if score > maxscore:\n",
    "            maxscore  = score\n",
    "    print(maxscore)\n",
    "    \n",
    "#Accepted"
   ]
  },
  {
   "cell_type": "code",
   "execution_count": null,
   "metadata": {},
   "outputs": [],
   "source": [
    "#Distribute Apples\n",
    "for t in range(int(input())):\n",
    "    n, k = map(int, input().split())\n",
    "    if n == 0:\n",
    "        print(\"NO\")\n",
    "    else:\n",
    "        if (n//k)%k == 0:\n",
    "            print(\"NO\")\n",
    "        else:\n",
    "            print(\"YES\")\n",
    "        \n",
    "#Accepted"
   ]
  },
  {
   "cell_type": "code",
   "execution_count": null,
   "metadata": {},
   "outputs": [],
   "source": [
    "#Dilemma\n",
    "def findIndex(cards, n):\n",
    "    for i in range(n):\n",
    "        if cards[i] == \"1\":\n",
    "            return i\n",
    "    return None\n",
    "\n",
    "for t in range(int(input())):\n",
    "    cards = list(input())\n",
    "    n = len(cards)\n",
    "    index = findIndex(cards, n)\n",
    "\n",
    "    while(index in range(n)):\n",
    "        \n",
    "        cards[index] = \"-\"\n",
    "        if index-1 >= 0:\n",
    "            if cards[index-1] == \"0\":\n",
    "                cards[index-1] = \"1\"\n",
    "            elif cards[index-1] == \"1\":\n",
    "                cards[index-1] = \"0\"\n",
    "        if index+1 < n:\n",
    "            if cards[index+1] == \"0\":\n",
    "                cards[index+1] = \"1\"\n",
    "            elif cards[index+1] == \"1\":\n",
    "                cards[index+1] = \"0\"\n",
    "        index = findIndex(cards, n)\n",
    "    if cards.count(\"-\")==n:\n",
    "        print(\"WIN\")\n",
    "    else:\n",
    "        print(\"LOSE\")\n",
    "    \n",
    "#Partly Accepted\n",
    "\n",
    "\n",
    "for t in range(int(input())):\n",
    "    cards = list(input())\n",
    "    if cards.count(\"1\") % 2:\n",
    "        print(\"WIN\")\n",
    "    else:\n",
    "        print(\"LOSE\")\n",
    "#Accepted"
   ]
  },
  {
   "cell_type": "code",
   "execution_count": 14,
   "metadata": {},
   "outputs": [
    {
     "name": "stdout",
     "output_type": "stream",
     "text": [
      "1\n",
      "5\n",
      "1 2 3 4 5\n",
      "5 5 4 4 3\n",
      "NO\n"
     ]
    }
   ],
   "source": [
    "#Zombie and Caves\n",
    "\n",
    "for t in range(int(input())):\n",
    "    n = int(input())\n",
    "    C = list(map(int, input().split()))\n",
    "    H = sorted(list(map(int, input().split())))\n",
    "    \n",
    "    c = [0]*n\n",
    "    \n",
    "    for i in range(1, n+1):\n",
    "        left = i - C[i-1]\n",
    "        right = i + C[i-1]\n",
    "        \n",
    "        if left < 0:\n",
    "            left = 0\n",
    "        \n",
    "        c[left-1] += 1\n",
    "\n",
    "        if right <= n-2:\n",
    "            c[right+1] -= 1\n",
    "    \n",
    "    for i in range(1, n):\n",
    "        c[i] = c[i]+c[i-1]\n",
    "\n",
    "    if H == sorted(c):\n",
    "        print(\"YES\")\n",
    "    else:\n",
    "        print(\"NO\")"
   ]
  }
 ],
 "metadata": {
  "kernelspec": {
   "display_name": "Python 3",
   "language": "python",
   "name": "python3"
  },
  "language_info": {
   "codemirror_mode": {
    "name": "ipython",
    "version": 3
   },
   "file_extension": ".py",
   "mimetype": "text/x-python",
   "name": "python",
   "nbconvert_exporter": "python",
   "pygments_lexer": "ipython3",
   "version": "3.7.1"
  }
 },
 "nbformat": 4,
 "nbformat_minor": 2
}
