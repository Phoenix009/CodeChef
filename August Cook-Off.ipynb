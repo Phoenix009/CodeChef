{
 "cells": [
  {
   "cell_type": "code",
   "execution_count": 5,
   "metadata": {},
   "outputs": [
    {
     "name": "stdout",
     "output_type": "stream",
     "text": [
      "1 \n",
      "3 5 10 20 30\n",
      "21 20\n",
      "22 22\n",
      "23 23\n",
      "-1\n"
     ]
    }
   ],
   "source": [
    "for t in range(int(input())):\n",
    "    n, m, k, l, r = map(int, input().split())\n",
    "    cans = []\n",
    "    for i in range(n):\n",
    "        cans.append(list(map(int, input().split())))\n",
    "    ans = 100000000\n",
    "    for i in range(n):\n",
    "        C = cans[i][0]\n",
    "        if C < k:\n",
    "            cans[i][0] = C+m if C+m < k else k\n",
    "        elif C > k:\n",
    "            cans[i][0] = C-m if C-m > k else k\n",
    "        \n",
    "        if cans[i][0] in range(l, r+1):\n",
    "            if cans[i][1] < ans:\n",
    "                ans = cans[i][1]\n",
    "    print(ans if ans != 100000000 else -1)"
   ]
  },
  {
   "cell_type": "code",
   "execution_count": 20,
   "metadata": {},
   "outputs": [
    {
     "name": "stdout",
     "output_type": "stream",
     "text": [
      "1\n",
      "6\n",
      "110011\n",
      "101010\n",
      "011011\n",
      "101111\n",
      "000000\n",
      "111111\n",
      "0\n"
     ]
    }
   ],
   "source": [
    "for t in range(int(input())):\n",
    "    n = int(input())\n",
    "    pp = []\n",
    "    cl, cr = 0, 0\n",
    "    pizza = []\n",
    "    for i in range(n):\n",
    "        pizza.append(list(input()))\n",
    "        c1, c2 = 0, 0\n",
    "        for j in range(n//2):\n",
    "            c1 += 1 if pizza[i][j] == \"1\" else 0\n",
    "        for j in range(n//2, n):\n",
    "            c2 += 1 if pizza[i][j] == \"1\" else 0\n",
    "        pp.append([c1, c2])\n",
    "        cl += c1\n",
    "        cr += c2\n",
    "    \n",
    "    if cl != cr:\n",
    "        mx = cl if cl > cr else cr\n",
    "        adj = max(cl, cr) - n//2\n",
    "        if mx == cl:\n",
    "            while(adj != 0):\n",
    "                for j in range(n):\n",
    "                    if pp[j][0] == adj:\n",
    "                        cl -= adj\n",
    "                        cr += adj\n",
    "                        break\n",
    "                adj -= 1\n",
    "        else:\n",
    "            while(adj != 0):\n",
    "                for j in range(n):\n",
    "                    if pp[j][1] == adj:\n",
    "                        cl += adj\n",
    "                        cr -= adj\n",
    "                        break\n",
    "                adj -= 1\n",
    "    print(abs(cl-cr))"
   ]
  },
  {
   "cell_type": "code",
   "execution_count": 31,
   "metadata": {},
   "outputs": [],
   "source": [
    "def richSS(_str):\n",
    "    n = len(_str)\n",
    "    if n >= 3:\n",
    "        count  = {}\n",
    "        for i in _str:\n",
    "            if i in count:\n",
    "                count[i] += 1\n",
    "            else:\n",
    "                count[i] = 1\n",
    "        for i in count.values():\n",
    "            if i > n//2:\n",
    "                return True\n",
    "    return False"
   ]
  },
  {
   "cell_type": "code",
   "execution_count": null,
   "metadata": {},
   "outputs": [],
   "source": [
    "for t in range(int(input())):\n",
    "    n, q = map(int, input().split())\n",
    "    S = list(input())\n",
    "    for Q in q:\n",
    "        l, r = map(int, input().split())\n",
    "        if r-l+1 < 3:\n",
    "            print(\"NO\")\n",
    "        else:\n",
    "            for i in range(r-l+1, 2, -1):\n",
    "                if richSS(S[0+r-l+1-i : i])"
   ]
  },
  {
   "cell_type": "code",
   "execution_count": 5,
   "metadata": {},
   "outputs": [
    {
     "name": "stdout",
     "output_type": "stream",
     "text": [
      "1\n",
      "3 4\n",
      "1 2 1\n",
      "10\n",
      "3\n",
      "2\n",
      "1\n",
      "3\n",
      "3\n",
      "1\n",
      "0\n"
     ]
    }
   ],
   "source": [
    "for t in range(int(input())):\n",
    "    n, q = map(int, input().split())\n",
    "    P = list(map(int, input().split()))\n",
    "    for Q in range(q):\n",
    "        x = int(input())\n",
    "        ek = 0\n",
    "        for i in range(n):\n",
    "            if P[i] < x:\n",
    "                x = 2*(x-P[i])\n",
    "                ek += 1\n",
    "            else:\n",
    "                break\n",
    "        print(ek)"
   ]
  },
  {
   "cell_type": "code",
   "execution_count": null,
   "metadata": {},
   "outputs": [],
   "source": [
    "eq: (x-x1)^2 + (y-y1)^2 = r1^2"
   ]
  },
  {
   "cell_type": "code",
   "execution_count": null,
   "metadata": {},
   "outputs": [],
   "source": [
    "for t in range(int(input())):\n",
    "    x1, y1, r1, x2, y2, r2 = map(int, input().split())\n",
    "     \n",
    "        \n",
    "    #When there is no solution:\n",
    "    if x1 == x2 and y1 == y2 and r1 == r2:\n",
    "        print(\"NO\")\n",
    "    else:\n",
    "        "
   ]
  }
 ],
 "metadata": {
  "kernelspec": {
   "display_name": "Python 3",
   "language": "python",
   "name": "python3"
  },
  "language_info": {
   "codemirror_mode": {
    "name": "ipython",
    "version": 3
   },
   "file_extension": ".py",
   "mimetype": "text/x-python",
   "name": "python",
   "nbconvert_exporter": "python",
   "pygments_lexer": "ipython3",
   "version": "3.7.1"
  }
 },
 "nbformat": 4,
 "nbformat_minor": 2
}
