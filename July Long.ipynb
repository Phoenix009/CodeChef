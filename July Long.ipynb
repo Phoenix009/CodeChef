{
 "cells": [
  {
   "cell_type": "code",
   "execution_count": 6,
   "metadata": {},
   "outputs": [
    {
     "name": "stdout",
     "output_type": "stream",
     "text": [
      "1\n",
      "5\n",
      "3 1 2 4 5\n",
      "1\n"
     ]
    }
   ],
   "source": [
    "def mean(l):\n",
    "    return sum(l)/len(l)\n",
    "\n",
    "\n",
    "for t in range(int(input())):\n",
    "    n = int(input())\n",
    "    coins = list(map(int, input().split()))\n",
    "    m = mean(coins)\n",
    "    if m in coins:\n",
    "        print(coins.index(int(m))+1)\n",
    "    else:\n",
    "        print(\"Impossible\")"
   ]
  },
  {
   "cell_type": "code",
   "execution_count": 23,
   "metadata": {},
   "outputs": [
    {
     "name": "stdout",
     "output_type": "stream",
     "text": [
      "1\n",
      "3\n",
      "4\n",
      "0 1\n",
      "2\n",
      "1 2\n",
      "7\n",
      "3 4\n"
     ]
    }
   ],
   "source": [
    "class Set:\n",
    "    def __init__(self):\n",
    "        self.set = []\n",
    "        self.E = 0\n",
    "        self.O = 0\n",
    "    \n",
    "    def addElement(self, element):\n",
    "        if element not in self.set:\n",
    "            self.set.append(element)\n",
    "            if parityChecker(element)%2 == 0:\n",
    "                self.E += 1\n",
    "            else:\n",
    "                self.O += 1\n",
    "\n",
    "def parityChecker(num):\n",
    "    parity = 0\n",
    "    while(num>0):\n",
    "        if num%2:\n",
    "            parity += 1\n",
    "        num = num//2\n",
    "    return parity\n",
    "\n",
    "\n",
    "for t in range(int(input())):\n",
    "    s = Set()\n",
    "    q = int(input())\n",
    "    for Query in range(0, q):\n",
    "        x = int(input())\n",
    "        if x not in s.set:\n",
    "            for i in s.set:\n",
    "                element = x^i\n",
    "                s.addElement(element)\n",
    "            s.addElement(x)\n",
    "        print(s.E, s.O)"
   ]
  },
  {
   "cell_type": "code",
   "execution_count": 9,
   "metadata": {},
   "outputs": [],
   "source": [
    "def primeListGenerator(n):\n",
    "    primes = [1] * (n+1)\n",
    "    primes[0], primes[1] = 0, 0\n",
    "    for i in range(int(n**0.5 + 1)):\n",
    "        if primes[i]:\n",
    "            j = 2\n",
    "            while(i*j <= len(primes)):\n",
    "                primes[i*j] = 0\n",
    "                j += 1\n",
    "    return primes"
   ]
  },
  {
   "cell_type": "code",
   "execution_count": 16,
   "metadata": {},
   "outputs": [
    {
     "name": "stdout",
     "output_type": "stream",
     "text": [
      "1\n",
      "100000\n",
      "45\n",
      "89\n"
     ]
    }
   ],
   "source": [
    "def fillRemainder(l, n, k):\n",
    "    for i in range(k%n):\n",
    "        l[i] += 1\n",
    "    return l\n",
    "\n",
    "def formBEVEN(l, n):\n",
    "    B = []\n",
    "    temp = n//2\n",
    "    for i in range(temp):\n",
    "        B.append(l[i])\n",
    "        B.append(l[temp+i])\n",
    "    return B\n",
    "\n",
    "def formBODD(l, n):\n",
    "    B = []\n",
    "    temp = n//2\n",
    "    for i in range(temp):\n",
    "        B.append(l[i])\n",
    "        B.append(l[temp+1+i])\n",
    "    B.append(l[temp])\n",
    "    return B\n",
    "\n",
    "def S2(l, n):\n",
    "    s2 = 0\n",
    "    for i in range(n-1):\n",
    "        s2 += abs(l[i] - l[i+1])\n",
    "    return s2\n",
    "\n",
    "for t in range(int(input())):\n",
    "    n = int(input())\n",
    "    k = int(input())\n",
    "    A = [k//n]*n\n",
    "    A = fillRemainder(A, n, k)\n",
    "    if n%2 :\n",
    "        B = formBODD(A, n)\n",
    "    else:\n",
    "        B = formBEVEN(A, n)\n",
    "    S2 = S2(B, n)\n",
    "    print(S2)"
   ]
  },
  {
   "cell_type": "code",
   "execution_count": 2,
   "metadata": {},
   "outputs": [
    {
     "name": "stdout",
     "output_type": "stream",
     "text": [
      "2\n",
      "2 1\n",
      "50 55\n",
      "55\n",
      "2 1\n",
      "1 2 3 30 33\n",
      "33\n"
     ]
    }
   ],
   "source": [
    "for t in range(int(input())):\n",
    "    N, Z = map(int, input().split())\n",
    "    A = sorted(list(map(int, input().split())))\n",
    "    hits = 0\n",
    "    for z in range(Z):\n",
    "        if A[-1] == A[-2]:\n",
    "            hits+= A[-1]\n",
    "            A.pop()\n",
    "        elif A[-2] > A[-1] - A[-2]:\n",
    "            hits += A[-1]\n",
    "            A.pop()\n",
    "        elif A[-2] < A[-1]-A[-2]:\n",
    "            hits += 2*A[-2]\n",
    "            A.pop(-2)\n",
    "    print(hits)"
   ]
  },
  {
   "cell_type": "code",
   "execution_count": null,
   "metadata": {},
   "outputs": [],
   "source": []
  }
 ],
 "metadata": {
  "kernelspec": {
   "display_name": "Python 3",
   "language": "python",
   "name": "python3"
  },
  "language_info": {
   "codemirror_mode": {
    "name": "ipython",
    "version": 3
   },
   "file_extension": ".py",
   "mimetype": "text/x-python",
   "name": "python",
   "nbconvert_exporter": "python",
   "pygments_lexer": "ipython3",
   "version": "3.7.1"
  }
 },
 "nbformat": 4,
 "nbformat_minor": 2
}
